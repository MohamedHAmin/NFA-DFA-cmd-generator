{
 "cells": [
  {
   "attachments": {},
   "cell_type": "markdown",
   "metadata": {},
   "source": [
    "## CMPN403 Programming Assignment\n",
    "Team:\n",
    "- Yomna Osama Hussien 1190203\n",
    "- Mohamed Hassan Mohamed 1190118"
   ]
  },
  {
   "cell_type": "code",
   "execution_count": 1,
   "metadata": {},
   "outputs": [],
   "source": [
    "import re\n",
    "import json\n",
    "import graphviz\n",
    "from typing import *\n",
    "from IPython.display import display\n",
    "import matplotlib.pyplot as plt\n",
    "import matplotlib.image as mpimg"
   ]
  },
  {
   "cell_type": "markdown",
   "metadata": {},
   "source": [
    "### Utility functions"
   ]
  },
  {
   "cell_type": "code",
   "execution_count": 2,
   "metadata": {},
   "outputs": [],
   "source": [
    "def verify_regex(regex: str) -> bool:\n",
    "    try:\n",
    "        re.compile(regex)\n",
    "        return True\n",
    "    except re.error:\n",
    "        return False\n",
    "\n",
    "def json_write(states: Dict[str, Dict], filename: str) -> None:\n",
    "    if not filename.endswith('.json'):\n",
    "        filename += '.json'\n",
    "        \n",
    "    with open(filename, 'w') as file:\n",
    "        json.dump(states, file, indent=4)\n",
    "\n",
    "def draw_nfa(json_file: str) -> graphviz.Digraph:\n",
    "    with open(json_file, 'r') as file:\n",
    "        nfa: Dict[str, Dict] = json.load(file)\n",
    "\n",
    "    dot = graphviz.Digraph(comment='NFA')\n",
    "\n",
    "    # add invisible starting state\n",
    "    dot.node('startingStateH', 'startingStateH', style='invis')\n",
    "    \n",
    "    # add nodes\n",
    "    for key in nfa.keys():\n",
    "        if key == 'startingState':\n",
    "            continue\n",
    "        if nfa[key]['isTerminatingState']:\n",
    "            dot.node(key, key, shape='doublecircle')\n",
    "        else:\n",
    "            dot.node(key, key)\n",
    "    \n",
    "    # add edges\n",
    "    for key in nfa.keys():\n",
    "        if key == 'startingState':\n",
    "            continue\n",
    "        for symbol in nfa[key].keys():\n",
    "            if symbol == 'isTerminatingState':\n",
    "                continue\n",
    "            for next_state in nfa[key][symbol]:\n",
    "                sy = symbol\n",
    "                if symbol == 'epsilon':\n",
    "                    sy = 'ε'\n",
    "                dot.edge(key, next_state, label=sy)\n",
    "    \n",
    "    dot.edge('startingStateH', nfa['startingState'])\n",
    "\n",
    "    return dot\n",
    "\n",
    "def display_and_save_image(json_file: str, fileName: str) -> None:\n",
    "    dot = draw_nfa(json_file)\n",
    "    dot.format = 'png'\n",
    "    dot.render(fileName)\n",
    "    \n",
    "    img = mpimg.imread(fileName+'.png')\n",
    "    imgplot = plt.imshow(img)\n",
    "    plt.axis('off')\n",
    "    plt.figure(figsize=(15, 15))\n",
    "    plt.show()"
   ]
  },
  {
   "cell_type": "markdown",
   "metadata": {},
   "source": [
    "### Regex NFA\n",
    "TODOs:\n",
    "- Ranges\n",
    "- ('*', '+', '?')\n"
   ]
  },
  {
   "cell_type": "code",
   "execution_count": 19,
   "metadata": {},
   "outputs": [],
   "source": [
    "class NFA:\n",
    "    def __init__(self) -> None:\n",
    "        self.start_state = 0\n",
    "        self.next_state = 0\n",
    "        self.prev_state = 0\n",
    "        self.prev_start = 0\n",
    "        self.states = {\"startingState\": \"S0\", \"S0\": {\"isTerminatingState\": False}}\n",
    "\n",
    "    def generate_NFA(self, regex: str, filename: str) -> None:\n",
    "        if not verify_regex(regex):\n",
    "            print(\"Invalid regex\")\n",
    "            return\n",
    "\n",
    "        i = self.build_NFA(regex)\n",
    "        \n",
    "        if i == len(regex):\n",
    "            self.states[\"S\" + str(self.next_state)][\"isTerminatingState\"] = True\n",
    "\n",
    "        json_write(self.states, filename)\n",
    "    \n",
    "    def build_NFA(self, regex: str) -> int:\n",
    "        i = 0\n",
    "        while i < len(regex):\n",
    "            if regex[i] == '(':\n",
    "                depth = 1\n",
    "                subregex = regex[i+1:]\n",
    "                for j in range(len(subregex)):\n",
    "                    if subregex[j] == '(':\n",
    "                        depth += 1\n",
    "                    elif subregex[j] == ')':\n",
    "                        depth -= 1\n",
    "                    if depth == 0:\n",
    "                        subregex = subregex[:j]\n",
    "                        break\n",
    "                sub_start_state = self.next_state + 1\n",
    "                sub_next_state = self.next_state + 1\n",
    "                sub_prev_state = self.next_state + 1\n",
    "                sub_prev_start = self.next_state + 1\n",
    "                \n",
    "                self.states.update({\"S\" + str(sub_start_state + 1): {\"isTerminatingState\": False}})\n",
    "                self.build_NFA(subregex)\n",
    "\n",
    "                i += len(subregex) + 2\n",
    "            elif regex[i] == '|':\n",
    "                alt_start_state = self.next_state + 1\n",
    "                alt_next_state = self.next_state + 1\n",
    "                alt_prev_state = self.next_state + 1\n",
    "                alt_prev_start = self.next_state + 1\n",
    "\n",
    "                # Add ε-transitions from the current start state to the starting states of both branches\n",
    "                self.states[\"S\" + str(self.start_state)][\"ε\"].extend([\"S\" + str(alt_start_state), \"S\" + str(alt_start_state + 1)])\n",
    "\n",
    "                # Build NFA for the first alternative\n",
    "                self.start_state = alt_start_state\n",
    "                self.next_state = alt_next_state\n",
    "                self.prev_state = alt_prev_state\n",
    "                self.prev_start = alt_prev_start\n",
    "                self.build_NFA(regex[:i])\n",
    "\n",
    "                # Build NFA for the second alternative\n",
    "                self.start_state = alt_start_state + 1\n",
    "                self.next_state = alt_next_state + 1\n",
    "                self.prev_state = alt_prev_state\n",
    "                self.prev_start = alt_prev_start\n",
    "                self.build_NFA(regex[i+1:])\n",
    "\n",
    "                # Create a new terminating state\n",
    "                self.next_state += 1\n",
    "                self.states[\"S\" + str(self.next_state)] = {\"isTerminatingState\": False}\n",
    "\n",
    "                # Connect terminating states of both branches to the new terminating state\n",
    "                self.states[\"S\" + str(alt_next_state)][\"ε\"].append(\"S\" + str(self.next_state))\n",
    "                self.states[\"S\" + str(alt_next_state + 1)][\"ε\"].append(\"S\" + str(self.next_state))\n",
    "\n",
    "                # Update the state indices\n",
    "                self.start_state = alt_start_state\n",
    "                self.next_state = self.next_state + 1\n",
    "                self.prev_state = alt_prev_state\n",
    "                self.prev_start = alt_prev_start\n",
    "\n",
    "                i += 1\n",
    "            else:\n",
    "                self.start_state, self.next_state, self.states = self.add_state(regex, self.start_state, self.next_state, self.states, i)\n",
    "                i += 1\n",
    "        return i\n",
    "    \n",
    "    def add_state(self, regex: str, start_state: int, next_state: int, states: Dict[str, Dict], i: int) -> Tuple[int, int, Dict[str, Dict]]:\n",
    "        next_state += 1\n",
    "        if regex[i] in states[\"S\" + str(start_state)]:\n",
    "            states[\"S\" + str(start_state)][regex[i]].append(\"S\" + str(next_state))\n",
    "        else:\n",
    "            states[\"S\" + str(start_state)][regex[i]] = [\"S\" + str(next_state)]\n",
    "        \n",
    "        states[\"S\" + str(next_state)] = {\"isTerminatingState\": False}\n",
    "        start_state = next_state\n",
    "\n",
    "        return start_state, next_state, states\n",
    "\n"
   ]
  },
  {
   "cell_type": "markdown",
   "metadata": {},
   "source": [
    "#### Test literals"
   ]
  },
  {
   "cell_type": "code",
   "execution_count": 20,
   "metadata": {},
   "outputs": [
    {
     "ename": "KeyError",
     "evalue": "'S1'",
     "output_type": "error",
     "traceback": [
      "\u001b[1;31m---------------------------------------------------------------------------\u001b[0m",
      "\u001b[1;31mKeyError\u001b[0m                                  Traceback (most recent call last)",
      "\u001b[1;32me:\\UNI\\S24\\CMPN403\\Labs\\Assignment\\NFA-DFA-cmd-generator\\assignment_1.ipynb Cell 8\u001b[0m line \u001b[0;36m2\n\u001b[0;32m      <a href='vscode-notebook-cell:/e%3A/UNI/S24/CMPN403/Labs/Assignment/NFA-DFA-cmd-generator/assignment_1.ipynb#X10sZmlsZQ%3D%3D?line=0'>1</a>\u001b[0m nfa \u001b[39m=\u001b[39m NFA()\n\u001b[1;32m----> <a href='vscode-notebook-cell:/e%3A/UNI/S24/CMPN403/Labs/Assignment/NFA-DFA-cmd-generator/assignment_1.ipynb#X10sZmlsZQ%3D%3D?line=1'>2</a>\u001b[0m nfa\u001b[39m.\u001b[39;49mgenerate_NFA(\u001b[39m\"\u001b[39;49m\u001b[39myomna\u001b[39;49m\u001b[39m\"\u001b[39;49m, \u001b[39m\"\u001b[39;49m\u001b[39mliteral.json\u001b[39;49m\u001b[39m\"\u001b[39;49m)\n\u001b[0;32m      <a href='vscode-notebook-cell:/e%3A/UNI/S24/CMPN403/Labs/Assignment/NFA-DFA-cmd-generator/assignment_1.ipynb#X10sZmlsZQ%3D%3D?line=2'>3</a>\u001b[0m display_and_save_image(\u001b[39m\"\u001b[39m\u001b[39mliteral.json\u001b[39m\u001b[39m\"\u001b[39m, \u001b[39m\"\u001b[39m\u001b[39mliteral\u001b[39m\u001b[39m\"\u001b[39m)\n",
      "\u001b[1;32me:\\UNI\\S24\\CMPN403\\Labs\\Assignment\\NFA-DFA-cmd-generator\\assignment_1.ipynb Cell 8\u001b[0m line \u001b[0;36m1\n\u001b[0;32m     <a href='vscode-notebook-cell:/e%3A/UNI/S24/CMPN403/Labs/Assignment/NFA-DFA-cmd-generator/assignment_1.ipynb#X10sZmlsZQ%3D%3D?line=10'>11</a>\u001b[0m     \u001b[39mprint\u001b[39m(\u001b[39m\"\u001b[39m\u001b[39mInvalid regex\u001b[39m\u001b[39m\"\u001b[39m)\n\u001b[0;32m     <a href='vscode-notebook-cell:/e%3A/UNI/S24/CMPN403/Labs/Assignment/NFA-DFA-cmd-generator/assignment_1.ipynb#X10sZmlsZQ%3D%3D?line=11'>12</a>\u001b[0m     \u001b[39mreturn\u001b[39;00m\n\u001b[1;32m---> <a href='vscode-notebook-cell:/e%3A/UNI/S24/CMPN403/Labs/Assignment/NFA-DFA-cmd-generator/assignment_1.ipynb#X10sZmlsZQ%3D%3D?line=13'>14</a>\u001b[0m i \u001b[39m=\u001b[39m \u001b[39mself\u001b[39;49m\u001b[39m.\u001b[39;49mbuild_NFA(regex)\n\u001b[0;32m     <a href='vscode-notebook-cell:/e%3A/UNI/S24/CMPN403/Labs/Assignment/NFA-DFA-cmd-generator/assignment_1.ipynb#X10sZmlsZQ%3D%3D?line=15'>16</a>\u001b[0m \u001b[39mif\u001b[39;00m i \u001b[39m==\u001b[39m \u001b[39mlen\u001b[39m(regex):\n\u001b[0;32m     <a href='vscode-notebook-cell:/e%3A/UNI/S24/CMPN403/Labs/Assignment/NFA-DFA-cmd-generator/assignment_1.ipynb#X10sZmlsZQ%3D%3D?line=16'>17</a>\u001b[0m     \u001b[39mself\u001b[39m\u001b[39m.\u001b[39mstates[\u001b[39m\"\u001b[39m\u001b[39mS\u001b[39m\u001b[39m\"\u001b[39m \u001b[39m+\u001b[39m \u001b[39mstr\u001b[39m(\u001b[39mself\u001b[39m\u001b[39m.\u001b[39mnext_state)][\u001b[39m\"\u001b[39m\u001b[39misTerminatingState\u001b[39m\u001b[39m\"\u001b[39m] \u001b[39m=\u001b[39m \u001b[39mTrue\u001b[39;00m\n",
      "\u001b[1;32me:\\UNI\\S24\\CMPN403\\Labs\\Assignment\\NFA-DFA-cmd-generator\\assignment_1.ipynb Cell 8\u001b[0m line \u001b[0;36m8\n\u001b[0;32m     <a href='vscode-notebook-cell:/e%3A/UNI/S24/CMPN403/Labs/Assignment/NFA-DFA-cmd-generator/assignment_1.ipynb#X10sZmlsZQ%3D%3D?line=80'>81</a>\u001b[0m         i \u001b[39m+\u001b[39m\u001b[39m=\u001b[39m \u001b[39m1\u001b[39m\n\u001b[0;32m     <a href='vscode-notebook-cell:/e%3A/UNI/S24/CMPN403/Labs/Assignment/NFA-DFA-cmd-generator/assignment_1.ipynb#X10sZmlsZQ%3D%3D?line=81'>82</a>\u001b[0m     \u001b[39melse\u001b[39;00m:\n\u001b[1;32m---> <a href='vscode-notebook-cell:/e%3A/UNI/S24/CMPN403/Labs/Assignment/NFA-DFA-cmd-generator/assignment_1.ipynb#X10sZmlsZQ%3D%3D?line=82'>83</a>\u001b[0m         \u001b[39mself\u001b[39m\u001b[39m.\u001b[39mstart_state, \u001b[39mself\u001b[39m\u001b[39m.\u001b[39mnext_state, \u001b[39mself\u001b[39m\u001b[39m.\u001b[39mstates \u001b[39m=\u001b[39m \u001b[39mself\u001b[39;49m\u001b[39m.\u001b[39;49madd_state(regex, \u001b[39mself\u001b[39;49m\u001b[39m.\u001b[39;49mstart_state, \u001b[39mself\u001b[39;49m\u001b[39m.\u001b[39;49mnext_state, \u001b[39mself\u001b[39;49m\u001b[39m.\u001b[39;49mstates, i)\n\u001b[0;32m     <a href='vscode-notebook-cell:/e%3A/UNI/S24/CMPN403/Labs/Assignment/NFA-DFA-cmd-generator/assignment_1.ipynb#X10sZmlsZQ%3D%3D?line=83'>84</a>\u001b[0m         i \u001b[39m+\u001b[39m\u001b[39m=\u001b[39m \u001b[39m1\u001b[39m\n\u001b[0;32m     <a href='vscode-notebook-cell:/e%3A/UNI/S24/CMPN403/Labs/Assignment/NFA-DFA-cmd-generator/assignment_1.ipynb#X10sZmlsZQ%3D%3D?line=84'>85</a>\u001b[0m \u001b[39mreturn\u001b[39;00m i\n",
      "\u001b[1;32me:\\UNI\\S24\\CMPN403\\Labs\\Assignment\\NFA-DFA-cmd-generator\\assignment_1.ipynb Cell 8\u001b[0m line \u001b[0;36m9\n\u001b[0;32m     <a href='vscode-notebook-cell:/e%3A/UNI/S24/CMPN403/Labs/Assignment/NFA-DFA-cmd-generator/assignment_1.ipynb#X10sZmlsZQ%3D%3D?line=91'>92</a>\u001b[0m     states[\u001b[39m\"\u001b[39m\u001b[39mS\u001b[39m\u001b[39m\"\u001b[39m \u001b[39m+\u001b[39m \u001b[39mstr\u001b[39m(start_state)][regex[i]] \u001b[39m=\u001b[39m [\u001b[39m\"\u001b[39m\u001b[39mS\u001b[39m\u001b[39m\"\u001b[39m \u001b[39m+\u001b[39m \u001b[39mstr\u001b[39m(next_state)]\n\u001b[0;32m     <a href='vscode-notebook-cell:/e%3A/UNI/S24/CMPN403/Labs/Assignment/NFA-DFA-cmd-generator/assignment_1.ipynb#X10sZmlsZQ%3D%3D?line=93'>94</a>\u001b[0m \u001b[39m# Initialize 'ε' key if it doesn't exist\u001b[39;00m\n\u001b[1;32m---> <a href='vscode-notebook-cell:/e%3A/UNI/S24/CMPN403/Labs/Assignment/NFA-DFA-cmd-generator/assignment_1.ipynb#X10sZmlsZQ%3D%3D?line=94'>95</a>\u001b[0m \u001b[39mif\u001b[39;00m \u001b[39m'\u001b[39m\u001b[39mε\u001b[39m\u001b[39m'\u001b[39m \u001b[39mnot\u001b[39;00m \u001b[39min\u001b[39;00m states[\u001b[39m\"\u001b[39;49m\u001b[39mS\u001b[39;49m\u001b[39m\"\u001b[39;49m \u001b[39m+\u001b[39;49m \u001b[39mstr\u001b[39;49m(next_state)]:\n\u001b[0;32m     <a href='vscode-notebook-cell:/e%3A/UNI/S24/CMPN403/Labs/Assignment/NFA-DFA-cmd-generator/assignment_1.ipynb#X10sZmlsZQ%3D%3D?line=95'>96</a>\u001b[0m     states[\u001b[39m\"\u001b[39m\u001b[39mS\u001b[39m\u001b[39m\"\u001b[39m \u001b[39m+\u001b[39m \u001b[39mstr\u001b[39m(next_state)][\u001b[39m\"\u001b[39m\u001b[39mε\u001b[39m\u001b[39m\"\u001b[39m] \u001b[39m=\u001b[39m []\n\u001b[0;32m     <a href='vscode-notebook-cell:/e%3A/UNI/S24/CMPN403/Labs/Assignment/NFA-DFA-cmd-generator/assignment_1.ipynb#X10sZmlsZQ%3D%3D?line=97'>98</a>\u001b[0m states[\u001b[39m\"\u001b[39m\u001b[39mS\u001b[39m\u001b[39m\"\u001b[39m \u001b[39m+\u001b[39m \u001b[39mstr\u001b[39m(next_state)] \u001b[39m=\u001b[39m {\u001b[39m\"\u001b[39m\u001b[39misTerminatingState\u001b[39m\u001b[39m\"\u001b[39m: \u001b[39mFalse\u001b[39;00m}\n",
      "\u001b[1;31mKeyError\u001b[0m: 'S1'"
     ]
    }
   ],
   "source": [
    "nfa = NFA()\n",
    "nfa.generate_NFA(\"yomna\", \"literal.json\")\n",
    "display_and_save_image(\"literal.json\", \"literal\")"
   ]
  },
  {
   "cell_type": "code",
   "execution_count": 18,
   "metadata": {},
   "outputs": [
    {
     "ename": "KeyError",
     "evalue": "'ε'",
     "output_type": "error",
     "traceback": [
      "\u001b[1;31m---------------------------------------------------------------------------\u001b[0m",
      "\u001b[1;31mKeyError\u001b[0m                                  Traceback (most recent call last)",
      "\u001b[1;32me:\\UNI\\S24\\CMPN403\\Labs\\Assignment\\NFA-DFA-cmd-generator\\assignment_1.ipynb Cell 10\u001b[0m line \u001b[0;36m2\n\u001b[0;32m      <a href='vscode-notebook-cell:/e%3A/UNI/S24/CMPN403/Labs/Assignment/NFA-DFA-cmd-generator/assignment_1.ipynb#X11sZmlsZQ%3D%3D?line=0'>1</a>\u001b[0m nfa \u001b[39m=\u001b[39m NFA()\n\u001b[1;32m----> <a href='vscode-notebook-cell:/e%3A/UNI/S24/CMPN403/Labs/Assignment/NFA-DFA-cmd-generator/assignment_1.ipynb#X11sZmlsZQ%3D%3D?line=1'>2</a>\u001b[0m nfa\u001b[39m.\u001b[39;49mgenerate_NFA(\u001b[39m\"\u001b[39;49m\u001b[39maa|b\u001b[39;49m\u001b[39m\"\u001b[39;49m, \u001b[39m\"\u001b[39;49m\u001b[39mAlternate.json\u001b[39;49m\u001b[39m\"\u001b[39;49m)\n\u001b[0;32m      <a href='vscode-notebook-cell:/e%3A/UNI/S24/CMPN403/Labs/Assignment/NFA-DFA-cmd-generator/assignment_1.ipynb#X11sZmlsZQ%3D%3D?line=2'>3</a>\u001b[0m display_and_save_image(\u001b[39m\"\u001b[39m\u001b[39mAlternate.json\u001b[39m\u001b[39m\"\u001b[39m, \u001b[39m\"\u001b[39m\u001b[39mAlternate\u001b[39m\u001b[39m\"\u001b[39m)\n",
      "\u001b[1;32me:\\UNI\\S24\\CMPN403\\Labs\\Assignment\\NFA-DFA-cmd-generator\\assignment_1.ipynb Cell 10\u001b[0m line \u001b[0;36m1\n\u001b[0;32m     <a href='vscode-notebook-cell:/e%3A/UNI/S24/CMPN403/Labs/Assignment/NFA-DFA-cmd-generator/assignment_1.ipynb#X11sZmlsZQ%3D%3D?line=10'>11</a>\u001b[0m     \u001b[39mprint\u001b[39m(\u001b[39m\"\u001b[39m\u001b[39mInvalid regex\u001b[39m\u001b[39m\"\u001b[39m)\n\u001b[0;32m     <a href='vscode-notebook-cell:/e%3A/UNI/S24/CMPN403/Labs/Assignment/NFA-DFA-cmd-generator/assignment_1.ipynb#X11sZmlsZQ%3D%3D?line=11'>12</a>\u001b[0m     \u001b[39mreturn\u001b[39;00m\n\u001b[1;32m---> <a href='vscode-notebook-cell:/e%3A/UNI/S24/CMPN403/Labs/Assignment/NFA-DFA-cmd-generator/assignment_1.ipynb#X11sZmlsZQ%3D%3D?line=13'>14</a>\u001b[0m i \u001b[39m=\u001b[39m \u001b[39mself\u001b[39;49m\u001b[39m.\u001b[39;49mbuild_NFA(regex)\n\u001b[0;32m     <a href='vscode-notebook-cell:/e%3A/UNI/S24/CMPN403/Labs/Assignment/NFA-DFA-cmd-generator/assignment_1.ipynb#X11sZmlsZQ%3D%3D?line=15'>16</a>\u001b[0m \u001b[39mif\u001b[39;00m i \u001b[39m==\u001b[39m \u001b[39mlen\u001b[39m(regex):\n\u001b[0;32m     <a href='vscode-notebook-cell:/e%3A/UNI/S24/CMPN403/Labs/Assignment/NFA-DFA-cmd-generator/assignment_1.ipynb#X11sZmlsZQ%3D%3D?line=16'>17</a>\u001b[0m     \u001b[39mself\u001b[39m\u001b[39m.\u001b[39mstates[\u001b[39m\"\u001b[39m\u001b[39mS\u001b[39m\u001b[39m\"\u001b[39m \u001b[39m+\u001b[39m \u001b[39mstr\u001b[39m(\u001b[39mself\u001b[39m\u001b[39m.\u001b[39mnext_state)][\u001b[39m\"\u001b[39m\u001b[39misTerminatingState\u001b[39m\u001b[39m\"\u001b[39m] \u001b[39m=\u001b[39m \u001b[39mTrue\u001b[39;00m\n",
      "\u001b[1;32me:\\UNI\\S24\\CMPN403\\Labs\\Assignment\\NFA-DFA-cmd-generator\\assignment_1.ipynb Cell 10\u001b[0m line \u001b[0;36m5\n\u001b[0;32m     <a href='vscode-notebook-cell:/e%3A/UNI/S24/CMPN403/Labs/Assignment/NFA-DFA-cmd-generator/assignment_1.ipynb#X11sZmlsZQ%3D%3D?line=47'>48</a>\u001b[0m alt_prev_start \u001b[39m=\u001b[39m \u001b[39mself\u001b[39m\u001b[39m.\u001b[39mnext_state \u001b[39m+\u001b[39m \u001b[39m1\u001b[39m\n\u001b[0;32m     <a href='vscode-notebook-cell:/e%3A/UNI/S24/CMPN403/Labs/Assignment/NFA-DFA-cmd-generator/assignment_1.ipynb#X11sZmlsZQ%3D%3D?line=49'>50</a>\u001b[0m \u001b[39m# Add ε-transitions from the current start state to the starting states of both branches\u001b[39;00m\n\u001b[1;32m---> <a href='vscode-notebook-cell:/e%3A/UNI/S24/CMPN403/Labs/Assignment/NFA-DFA-cmd-generator/assignment_1.ipynb#X11sZmlsZQ%3D%3D?line=50'>51</a>\u001b[0m \u001b[39mself\u001b[39;49m\u001b[39m.\u001b[39;49mstates[\u001b[39m\"\u001b[39;49m\u001b[39mS\u001b[39;49m\u001b[39m\"\u001b[39;49m \u001b[39m+\u001b[39;49m \u001b[39mstr\u001b[39;49m(\u001b[39mself\u001b[39;49m\u001b[39m.\u001b[39;49mstart_state)][\u001b[39m\"\u001b[39;49m\u001b[39mε\u001b[39;49m\u001b[39m\"\u001b[39;49m]\u001b[39m.\u001b[39mextend([\u001b[39m\"\u001b[39m\u001b[39mS\u001b[39m\u001b[39m\"\u001b[39m \u001b[39m+\u001b[39m \u001b[39mstr\u001b[39m(alt_start_state), \u001b[39m\"\u001b[39m\u001b[39mS\u001b[39m\u001b[39m\"\u001b[39m \u001b[39m+\u001b[39m \u001b[39mstr\u001b[39m(alt_start_state \u001b[39m+\u001b[39m \u001b[39m1\u001b[39m)])\n\u001b[0;32m     <a href='vscode-notebook-cell:/e%3A/UNI/S24/CMPN403/Labs/Assignment/NFA-DFA-cmd-generator/assignment_1.ipynb#X11sZmlsZQ%3D%3D?line=52'>53</a>\u001b[0m \u001b[39m# Build NFA for the first alternative\u001b[39;00m\n\u001b[0;32m     <a href='vscode-notebook-cell:/e%3A/UNI/S24/CMPN403/Labs/Assignment/NFA-DFA-cmd-generator/assignment_1.ipynb#X11sZmlsZQ%3D%3D?line=53'>54</a>\u001b[0m \u001b[39mself\u001b[39m\u001b[39m.\u001b[39mstart_state \u001b[39m=\u001b[39m alt_start_state\n",
      "\u001b[1;31mKeyError\u001b[0m: 'ε'"
     ]
    }
   ],
   "source": [
    "nfa = NFA()\n",
    "nfa.generate_NFA(\"aa|b\", \"Alternate.json\")\n",
    "display_and_save_image(\"Alternate.json\", \"Alternate\")"
   ]
  }
 ],
 "metadata": {
  "kernelspec": {
   "display_name": "Python 3",
   "language": "python",
   "name": "python3"
  },
  "language_info": {
   "codemirror_mode": {
    "name": "ipython",
    "version": 3
   },
   "file_extension": ".py",
   "mimetype": "text/x-python",
   "name": "python",
   "nbconvert_exporter": "python",
   "pygments_lexer": "ipython3",
   "version": "3.11.9"
  },
  "orig_nbformat": 4
 },
 "nbformat": 4,
 "nbformat_minor": 2
}
