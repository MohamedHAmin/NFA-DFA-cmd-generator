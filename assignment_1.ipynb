{
 "cells": [
  {
   "attachments": {},
   "cell_type": "markdown",
   "metadata": {},
   "source": [
    "## CMPN403 Programming Assignment\n",
    "Team:\n",
    "- Yomna Osama Hussien 1190203\n",
    "- Mohamed Hassan Mohamed 1190118"
   ]
  },
  {
   "cell_type": "code",
   "execution_count": 10,
   "metadata": {},
   "outputs": [],
   "source": [
    "import re\n",
    "import json\n",
    "import graphviz\n",
    "from typing import *\n",
    "from IPython.display import display\n",
    "import matplotlib.pyplot as plt\n",
    "import matplotlib.image as mpimg"
   ]
  },
  {
   "cell_type": "markdown",
   "metadata": {},
   "source": [
    "### Utility functions"
   ]
  },
  {
   "cell_type": "code",
   "execution_count": 11,
   "metadata": {},
   "outputs": [],
   "source": [
    "def verify_regex(regex: str) -> bool:\n",
    "    try:\n",
    "        re.compile(regex)\n",
    "        return True\n",
    "    except re.error:\n",
    "        return False\n",
    "\n",
    "def json_write(states: Dict[str, Dict], filename: str) -> None:\n",
    "    if not filename.endswith('.json'):\n",
    "        filename += '.json'\n",
    "        \n",
    "    with open(filename, 'w') as file:\n",
    "        json.dump(states, file, indent=4)\n",
    "\n",
    "def draw_nfa(json_file: str) -> graphviz.Digraph:\n",
    "    with open(json_file, 'r') as file:\n",
    "        nfa: Dict[str, Dict] = json.load(file)\n",
    "\n",
    "    dot = graphviz.Digraph(comment='NFA')\n",
    "\n",
    "    # add invisible starting state\n",
    "    dot.node('startingStateH', 'startingStateH', style='invis')\n",
    "    \n",
    "    # add nodes\n",
    "    for key in nfa.keys():\n",
    "        if key == 'startingState':\n",
    "            continue\n",
    "        if nfa[key]['isTerminatingState']:\n",
    "            dot.node(key, key, shape='doublecircle')\n",
    "        else:\n",
    "            dot.node(key, key)\n",
    "    \n",
    "    # add edges\n",
    "    for key in nfa.keys():\n",
    "        if key == 'startingState':\n",
    "            continue\n",
    "        for symbol in nfa[key].keys():\n",
    "            if symbol == 'isTerminatingState':\n",
    "                continue\n",
    "            for next_state in nfa[key][symbol]:\n",
    "                sy = symbol\n",
    "                if symbol == 'epsilon':\n",
    "                    sy = 'ε'\n",
    "                dot.edge(key, next_state, label=sy)\n",
    "    \n",
    "    dot.edge('startingStateH', nfa['startingState'])\n",
    "\n",
    "    return dot\n",
    "\n",
    "def display_and_save_image(json_file: str, fileName: str) -> None:\n",
    "    dot = draw_nfa(json_file)\n",
    "    dot.format = 'png'\n",
    "    dot.render(fileName)\n",
    "    \n",
    "    img = mpimg.imread(fileName+'.png')\n",
    "    imgplot = plt.imshow(img)\n",
    "    plt.axis('off')\n",
    "    plt.figure(figsize=(15, 15))\n",
    "    plt.show()"
   ]
  },
  {
   "cell_type": "markdown",
   "metadata": {},
   "source": [
    "### Regex NFA\n",
    "TODOs:\n",
    "- Ranges\n",
    "- ('*', '+', '?')\n"
   ]
  },
  {
   "cell_type": "code",
   "execution_count": 22,
   "metadata": {},
   "outputs": [],
   "source": [
    "class NFA:\n",
    "    def __init__(self) -> None:\n",
    "        self.start_state = 0\n",
    "        self.next_state = 0\n",
    "        self.prev_state = 0\n",
    "        self.prev_start = 0\n",
    "        self.states = {\"startingState\": \"S0\", \"S0\": {\"isTerminatingState\": False}}\n",
    "\n",
    "    def generate_NFA(self, regex: str, filename: str) -> None:\n",
    "        if not verify_regex(regex):\n",
    "            print(\"Invalid regex\")\n",
    "            return\n",
    "\n",
    "        i = self.build_NFA(regex)\n",
    "        \n",
    "        if i == len(regex):\n",
    "            self.states[\"S\" + str(self.next_state)][\"isTerminatingState\"] = True\n",
    "\n",
    "        json_write(self.states, filename)\n",
    "    \n",
    "    def build_NFA(self, regex: str) -> int:\n",
    "        i = 0\n",
    "        while i < len(regex):\n",
    "            if regex[i] == '(':\n",
    "                depth = 1\n",
    "                subregex = regex[i+1:]\n",
    "                for j in range(len(subregex)):\n",
    "                    if subregex[j] == '(':\n",
    "                        depth += 1\n",
    "                    elif subregex[j] == ')':\n",
    "                        depth -= 1\n",
    "                    if depth == 0:\n",
    "                        subregex = subregex[:j]\n",
    "                        break\n",
    "                sub_start_state = self.next_state + 1\n",
    "                sub_next_state = self.next_state + 1\n",
    "                sub_prev_state = self.next_state + 1\n",
    "                sub_prev_start = self.next_state + 1\n",
    "                \n",
    "                self.states.update({\"S\" + str(sub_start_state + 1): {\"isTerminatingState\": False}})\n",
    "                self.build_NFA(subregex)\n",
    "\n",
    "                i += len(subregex) + 2\n",
    "            elif regex[i] == '|':\n",
    "                alt_start_state = self.next_state + 1\n",
    "                alt_next_state = self.next_state + 1\n",
    "                alt_prev_state = self.next_state + 1\n",
    "                alt_prev_start = self.next_state + 1\n",
    "\n",
    "                # Add ε-transitions from the current start state to the starting states of both branches\n",
    "                self.states[\"S\" + str(self.start_state)][\"ε\"].extend([\"S\" + str(alt_start_state), \"S\" + str(alt_start_state + 1)])\n",
    "\n",
    "                # Build NFA for the first alternative\n",
    "                self.start_state = alt_start_state\n",
    "                self.next_state = alt_next_state\n",
    "                self.prev_state = alt_prev_state\n",
    "                self.prev_start = alt_prev_start\n",
    "                self.build_NFA(regex[:i])\n",
    "\n",
    "                # Build NFA for the second alternative\n",
    "                self.start_state = alt_start_state + 1\n",
    "                self.next_state = alt_next_state + 1\n",
    "                self.prev_state = alt_prev_state\n",
    "                self.prev_start = alt_prev_start\n",
    "                self.build_NFA(regex[i+1:])\n",
    "\n",
    "                # Create a new terminating state\n",
    "                self.next_state += 1\n",
    "                self.states[\"S\" + str(self.next_state)] = {\"isTerminatingState\": False}\n",
    "\n",
    "                # Connect terminating states of both branches to the new terminating state\n",
    "                self.states[\"S\" + str(alt_next_state)][\"ε\"].append(\"S\" + str(self.next_state))\n",
    "                self.states[\"S\" + str(alt_next_state + 1)][\"ε\"].append(\"S\" + str(self.next_state))\n",
    "\n",
    "                # Update the state indices\n",
    "                self.start_state = alt_start_state\n",
    "                self.next_state = self.next_state + 1\n",
    "                self.prev_state = alt_prev_state\n",
    "                self.prev_start = alt_prev_start\n",
    "\n",
    "                i += 1\n",
    "            else:\n",
    "                self.start_state, self.next_state, self.prev_state, self.states = self.add_state(regex, self.start_state, self.next_state, self.prev_state, self.states, i)\n",
    "                i += 1\n",
    "        return i\n",
    "    \n",
    "    def add_state(self, regex: str, start_state: int, next_state: int,prev_state: int, states: Dict[str, Dict], i: int) -> Tuple[int, int, Dict[str, Dict]]:\n",
    "        next_state += 1\n",
    "        if(regex[i] == '+'):\n",
    "            return self.handlePositiveClosure(start_state, next_state, prev_state, states)\n",
    "        \n",
    "        if regex[i] == '*':\n",
    "            return self.handleZeroOrMore(start_state, next_state, prev_state, states)\n",
    "        \n",
    "        if regex[i] == '?':\n",
    "           return self.handleZeroOrOne(start_state, next_state, prev_state, states)\n",
    "        \n",
    "        if regex[i] in states[\"S\" + str(start_state)]:\n",
    "            states[\"S\" + str(start_state)][regex[i]].append(\"S\" + str(next_state))\n",
    "        else:\n",
    "            states[\"S\" + str(start_state)][regex[i]] = [\"S\" + str(next_state)]\n",
    "        \n",
    "        states[\"S\" + str(next_state)] = {\"isTerminatingState\": False}\n",
    "        prev_state = start_state\n",
    "        start_state = next_state\n",
    "\n",
    "        return start_state, next_state, prev_state, states\n",
    "    \n",
    "    def handlePositiveClosure(self, start_state: int, next_state: int, prev_state: int, states: Dict[str, Dict]) -> Tuple[int, int,int, Dict[str, Dict]]:\n",
    "        states[\"S\" + str(next_state)] = {\"isTerminatingState\": False}  \n",
    "        if 'ε' in states[\"S\" + str(start_state)]:\n",
    "            states[\"S\" + str(start_state)][\"ε\"].append(\"S\" + str(prev_state))\n",
    "            states[\"S\" + str(start_state)][\"ε\"].append(\"S\" + str(next_state))\n",
    "        else:\n",
    "            states[\"S\" + str(start_state)][\"ε\"] = [\"S\" + str(prev_state), \"S\" + str(next_state)]\n",
    "        prev_state = start_state\n",
    "        start_state = next_state\n",
    "        return start_state, next_state, prev_state, states\n",
    "    \n",
    "    def handleZeroOrMore(self, start_state: int, next_state: int, prev_state: int, states: Dict[str, Dict]) -> Tuple[int, int,int, Dict[str, Dict]]:\n",
    "        states[\"S\" + str(next_state)] = {\"isTerminatingState\": False}  \n",
    "        if 'ε' in states[\"S\" + str(start_state)]:\n",
    "            states[\"S\" + str(start_state)][\"ε\"].append(\"S\" + str(prev_state))\n",
    "            states[\"S\" + str(start_state)][\"ε\"].append(\"S\" + str(next_state))\n",
    "        else:\n",
    "            states[\"S\" + str(start_state)][\"ε\"] = [\"S\" + str(prev_state), \"S\" + str(next_state)]\n",
    "        \n",
    "        if 'ε' in states[\"S\" + str(prev_state)]:\n",
    "            states[\"S\" + str(prev_state)][\"ε\"].append(\"S\" + str(next_state))\n",
    "        else:\n",
    "            states[\"S\" + str(prev_state)][\"ε\"] = [\"S\" + str(next_state)]\n",
    "            \n",
    "        prev_state = start_state\n",
    "        start_state = next_state\n",
    "        return start_state, next_state, prev_state, states\n",
    "    \n",
    "    def handleZeroOrOne(self, start_state: int, next_state: int, prev_state: int, states: Dict[str, Dict]) -> Tuple[int, int,int, Dict[str, Dict]]:\n",
    "        states[\"S\" + str(next_state)] = {\"isTerminatingState\": False}  \n",
    "        if 'ε' in states[\"S\" + str(start_state)]:\n",
    "            states[\"S\" + str(start_state)][\"ε\"].append(\"S\" + str(next_state))\n",
    "        else:\n",
    "            states[\"S\" + str(start_state)][\"ε\"] = [\"S\" + str(next_state)]\n",
    "        \n",
    "        if 'ε' in states[\"S\" + str(prev_state)]:\n",
    "            states[\"S\" + str(prev_state)][\"ε\"].append(\"S\" + str(next_state))\n",
    "        else:\n",
    "            states[\"S\" + str(prev_state)][\"ε\"] = [\"S\" + str(next_state)]\n",
    "        \n",
    "        prev_state = start_state\n",
    "        start_state = next_state\n",
    "        return start_state, next_state, prev_state, states\n",
    "\n"
   ]
  },
  {
   "cell_type": "markdown",
   "metadata": {},
   "source": [
    "#### Test literals"
   ]
  },
  {
   "cell_type": "code",
   "execution_count": 24,
   "metadata": {},
   "outputs": [
    {
     "data": {
      "image/png": "[encoded data removed]",
      "text/plain": [
       "<Figure size 640x480 with 1 Axes>"
      ]
     },
     "metadata": {},
     "output_type": "display_data"
    },
    {
     "data": {
      "text/plain": [
       "<Figure size 1500x1500 with 0 Axes>"
      ]
     },
     "metadata": {},
     "output_type": "display_data"
    }
   ],
   "source": [
    "nfa = NFA()\n",
    "nfa.generate_NFA(\"yomna\", \"literal.json\")\n",
    "display_and_save_image(\"literal.json\", \"literal\")"
   ]
  },
  {
   "cell_type": "code",
   "execution_count": 25,
   "metadata": {},
   "outputs": [
    {
     "data": {
      "image/png": "[encoded data removed]",
      "text/plain": [
       "<Figure size 640x480 with 1 Axes>"
      ]
     },
     "metadata": {},
     "output_type": "display_data"
    },
    {
     "data": {
      "text/plain": [
       "<Figure size 1500x1500 with 0 Axes>"
      ]
     },
     "metadata": {},
     "output_type": "display_data"
    }
   ],
   "source": [
    "nfa = NFA()\n",
    "nfa.generate_NFA(\"amin+\", \"positiveClosure.json\")\n",
    "display_and_save_image(\"positiveClosure.json\", \"positiveClosure\")"
   ]
  },
  {
   "cell_type": "code",
   "execution_count": 26,
   "metadata": {},
   "outputs": [
    {
     "data": {
      "image/png": "[encoded data removed]",
      "text/plain": [
       "<Figure size 640x480 with 1 Axes>"
      ]
     },
     "metadata": {},
     "output_type": "display_data"
    },
    {
     "data": {
      "text/plain": [
       "<Figure size 1500x1500 with 0 Axes>"
      ]
     },
     "metadata": {},
     "output_type": "display_data"
    }
   ],
   "source": [
    "nfa = NFA()\n",
    "nfa.generate_NFA(\"amin?\", \"zeroOrOne.json\")\n",
    "display_and_save_image(\"zeroOrOne.json\", \"zeroOrOne\")"
   ]
  },
  {
   "cell_type": "code",
   "execution_count": 27,
   "metadata": {},
   "outputs": [
    {
     "data": {
      "image/png": "[encoded data removed]",
      "text/plain": [
       "<Figure size 640x480 with 1 Axes>"
      ]
     },
     "metadata": {},
     "output_type": "display_data"
    },
    {
     "data": {
      "text/plain": [
       "<Figure size 1500x1500 with 0 Axes>"
      ]
     },
     "metadata": {},
     "output_type": "display_data"
    }
   ],
   "source": [
    "nfa = NFA()\n",
    "nfa.generate_NFA(\"amin*\", \"zeroOrMore.json\")\n",
    "display_and_save_image(\"zeroOrMore.json\", \"zeroOrMore\")"
   ]
  },
  {
   "cell_type": "code",
   "execution_count": 14,
   "metadata": {},
   "outputs": [
    {
     "ename": "KeyError",
     "evalue": "'ε'",
     "output_type": "error",
     "traceback": [
      "\u001b[1;31m---------------------------------------------------------------------------\u001b[0m",
      "\u001b[1;31mKeyError\u001b[0m                                  Traceback (most recent call last)",
      "Cell \u001b[1;32mIn[14], line 2\u001b[0m\n\u001b[0;32m      1\u001b[0m nfa \u001b[38;5;241m=\u001b[39m NFA()\n\u001b[1;32m----> 2\u001b[0m \u001b[43mnfa\u001b[49m\u001b[38;5;241;43m.\u001b[39;49m\u001b[43mgenerate_NFA\u001b[49m\u001b[43m(\u001b[49m\u001b[38;5;124;43m\"\u001b[39;49m\u001b[38;5;124;43maa|b\u001b[39;49m\u001b[38;5;124;43m\"\u001b[39;49m\u001b[43m,\u001b[49m\u001b[43m \u001b[49m\u001b[38;5;124;43m\"\u001b[39;49m\u001b[38;5;124;43mAlternate.json\u001b[39;49m\u001b[38;5;124;43m\"\u001b[39;49m\u001b[43m)\u001b[49m\n\u001b[0;32m      3\u001b[0m display_and_save_image(\u001b[38;5;124m\"\u001b[39m\u001b[38;5;124mAlternate.json\u001b[39m\u001b[38;5;124m\"\u001b[39m, \u001b[38;5;124m\"\u001b[39m\u001b[38;5;124mAlternate\u001b[39m\u001b[38;5;124m\"\u001b[39m)\n",
      "Cell \u001b[1;32mIn[12], line 14\u001b[0m, in \u001b[0;36mNFA.generate_NFA\u001b[1;34m(self, regex, filename)\u001b[0m\n\u001b[0;32m     11\u001b[0m     \u001b[38;5;28mprint\u001b[39m(\u001b[38;5;124m\"\u001b[39m\u001b[38;5;124mInvalid regex\u001b[39m\u001b[38;5;124m\"\u001b[39m)\n\u001b[0;32m     12\u001b[0m     \u001b[38;5;28;01mreturn\u001b[39;00m\n\u001b[1;32m---> 14\u001b[0m i \u001b[38;5;241m=\u001b[39m \u001b[38;5;28;43mself\u001b[39;49m\u001b[38;5;241;43m.\u001b[39;49m\u001b[43mbuild_NFA\u001b[49m\u001b[43m(\u001b[49m\u001b[43mregex\u001b[49m\u001b[43m)\u001b[49m\n\u001b[0;32m     16\u001b[0m \u001b[38;5;28;01mif\u001b[39;00m i \u001b[38;5;241m==\u001b[39m \u001b[38;5;28mlen\u001b[39m(regex):\n\u001b[0;32m     17\u001b[0m     \u001b[38;5;28mself\u001b[39m\u001b[38;5;241m.\u001b[39mstates[\u001b[38;5;124m\"\u001b[39m\u001b[38;5;124mS\u001b[39m\u001b[38;5;124m\"\u001b[39m \u001b[38;5;241m+\u001b[39m \u001b[38;5;28mstr\u001b[39m(\u001b[38;5;28mself\u001b[39m\u001b[38;5;241m.\u001b[39mnext_state)][\u001b[38;5;124m\"\u001b[39m\u001b[38;5;124misTerminatingState\u001b[39m\u001b[38;5;124m\"\u001b[39m] \u001b[38;5;241m=\u001b[39m \u001b[38;5;28;01mTrue\u001b[39;00m\n",
      "Cell \u001b[1;32mIn[12], line 51\u001b[0m, in \u001b[0;36mNFA.build_NFA\u001b[1;34m(self, regex)\u001b[0m\n\u001b[0;32m     48\u001b[0m alt_prev_start \u001b[38;5;241m=\u001b[39m \u001b[38;5;28mself\u001b[39m\u001b[38;5;241m.\u001b[39mnext_state \u001b[38;5;241m+\u001b[39m \u001b[38;5;241m1\u001b[39m\n\u001b[0;32m     50\u001b[0m \u001b[38;5;66;03m# Add ε-transitions from the current start state to the starting states of both branches\u001b[39;00m\n\u001b[1;32m---> 51\u001b[0m \u001b[38;5;28;43mself\u001b[39;49m\u001b[38;5;241;43m.\u001b[39;49m\u001b[43mstates\u001b[49m\u001b[43m[\u001b[49m\u001b[38;5;124;43m\"\u001b[39;49m\u001b[38;5;124;43mS\u001b[39;49m\u001b[38;5;124;43m\"\u001b[39;49m\u001b[43m \u001b[49m\u001b[38;5;241;43m+\u001b[39;49m\u001b[43m \u001b[49m\u001b[38;5;28;43mstr\u001b[39;49m\u001b[43m(\u001b[49m\u001b[38;5;28;43mself\u001b[39;49m\u001b[38;5;241;43m.\u001b[39;49m\u001b[43mstart_state\u001b[49m\u001b[43m)\u001b[49m\u001b[43m]\u001b[49m\u001b[43m[\u001b[49m\u001b[38;5;124;43m\"\u001b[39;49m\u001b[38;5;124;43mε\u001b[39;49m\u001b[38;5;124;43m\"\u001b[39;49m\u001b[43m]\u001b[49m\u001b[38;5;241m.\u001b[39mextend([\u001b[38;5;124m\"\u001b[39m\u001b[38;5;124mS\u001b[39m\u001b[38;5;124m\"\u001b[39m \u001b[38;5;241m+\u001b[39m \u001b[38;5;28mstr\u001b[39m(alt_start_state), \u001b[38;5;124m\"\u001b[39m\u001b[38;5;124mS\u001b[39m\u001b[38;5;124m\"\u001b[39m \u001b[38;5;241m+\u001b[39m \u001b[38;5;28mstr\u001b[39m(alt_start_state \u001b[38;5;241m+\u001b[39m \u001b[38;5;241m1\u001b[39m)])\n\u001b[0;32m     53\u001b[0m \u001b[38;5;66;03m# Build NFA for the first alternative\u001b[39;00m\n\u001b[0;32m     54\u001b[0m \u001b[38;5;28mself\u001b[39m\u001b[38;5;241m.\u001b[39mstart_state \u001b[38;5;241m=\u001b[39m alt_start_state\n",
      "\u001b[1;31mKeyError\u001b[0m: 'ε'"
     ]
    }
   ],
   "source": [
    "nfa = NFA()\n",
    "nfa.generate_NFA(\"aa|b\", \"Alternate.json\")\n",
    "display_and_save_image(\"Alternate.json\", \"Alternate\")"
   ]
  }
 ],
 "metadata": {
  "kernelspec": {
   "display_name": "Python 3",
   "language": "python",
   "name": "python3"
  },
  "language_info": {
   "codemirror_mode": {
    "name": "ipython",
    "version": 3
   },
   "file_extension": ".py",
   "mimetype": "text/x-python",
   "name": "python",
   "nbconvert_exporter": "python",
   "pygments_lexer": "ipython3",
   "version": "3.11.9"
  },
  "orig_nbformat": 4
 },
 "nbformat": 4,
 "nbformat_minor": 2
}
