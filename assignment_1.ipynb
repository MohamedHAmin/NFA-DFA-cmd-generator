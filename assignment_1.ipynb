{
 "cells": [
  {
   "attachments": {},
   "cell_type": "markdown",
   "metadata": {},
   "source": [
    "## CMPN403 Programming Assignment\n",
    "Team:\n",
    "- Yomna Osama Hussien 1190203\n",
    "- Mohamed Hassan Mohamed 1190118"
   ]
  },
  {
   "cell_type": "code",
   "execution_count": 1,
   "metadata": {},
   "outputs": [],
   "source": [
    "import re\n",
    "import json\n",
    "import graphviz\n",
    "from typing import *\n",
    "from IPython.display import display\n",
    "import matplotlib.pyplot as plt\n",
    "import matplotlib.image as mpimg"
   ]
  },
  {
   "cell_type": "markdown",
   "metadata": {},
   "source": [
    "### Utility functions"
   ]
  },
  {
   "cell_type": "code",
   "execution_count": 2,
   "metadata": {},
   "outputs": [],
   "source": [
    "def verify_regex(regex: str) -> bool:\n",
    "    try:\n",
    "        re.compile(regex)\n",
    "        return True\n",
    "    except re.error:\n",
    "        return False\n",
    "\n",
    "def json_write(states: Dict[str, Dict], filename: str) -> None:\n",
    "    if not filename.endswith('.json'):\n",
    "        filename += '.json'\n",
    "        \n",
    "    with open(filename, 'w') as file:\n",
    "        json.dump(states, file, indent=4)\n",
    "\n",
    "def draw_nfa(json_file: str) -> graphviz.Digraph:\n",
    "    with open(json_file, 'r') as file:\n",
    "        nfa: Dict[str, Dict] = json.load(file)\n",
    "\n",
    "    dot = graphviz.Digraph(comment='NFA')\n",
    "\n",
    "    # add invisible starting state\n",
    "    dot.node('startingStateH', 'startingStateH', style='invis')\n",
    "    \n",
    "    # add nodes\n",
    "    for key in nfa.keys():\n",
    "        if key == 'startingState':\n",
    "            continue\n",
    "        if nfa[key]['isTerminatingState']:\n",
    "            dot.node(key, key, shape='doublecircle')\n",
    "        else:\n",
    "            dot.node(key, key)\n",
    "    \n",
    "    # add edges\n",
    "    for key in nfa.keys():\n",
    "        if key == 'startingState':\n",
    "            continue\n",
    "        for symbol in nfa[key].keys():\n",
    "            if symbol == 'isTerminatingState':\n",
    "                continue\n",
    "            for next_state in nfa[key][symbol]:\n",
    "                sy = symbol\n",
    "                if symbol == 'epsilon':\n",
    "                    sy = 'ε'\n",
    "                dot.edge(key, next_state, label=sy)\n",
    "    \n",
    "    dot.edge('startingStateH', nfa['startingState'])\n",
    "\n",
    "    return dot\n",
    "\n",
    "def display_and_save_image(json_file: str, fileName: str) -> None:\n",
    "    dot = draw_nfa(json_file)\n",
    "    dot.format = 'png'\n",
    "    dot.render(fileName)\n",
    "    \n",
    "    img = mpimg.imread(fileName+'.png')\n",
    "    imgplot = plt.imshow(img)\n",
    "    plt.axis('off')\n",
    "    plt.figure(figsize=(15, 15))\n",
    "    plt.show()"
   ]
  },
  {
   "cell_type": "markdown",
   "metadata": {},
   "source": [
    "### Regex NFA"
   ]
  },
  {
   "cell_type": "code",
   "execution_count": 6,
   "metadata": {},
   "outputs": [],
   "source": [
    "class NFA:\n",
    "    def __init__(self) -> None:\n",
    "        self.start_state = 0\n",
    "        self.next_state = 0\n",
    "        self.prev_state = 0\n",
    "        self.prev_start = 0\n",
    "        self.states = {\"startingState\": \"S0\", \"S0\": {\"isTerminatingState\": False}}\n",
    "\n",
    "    def add_state(self, regex: str, start_state: int, next_state: int, states: Dict[str, Dict], i: int) -> Tuple[int, int, Dict[str, Dict]]:\n",
    "        next_state += 1\n",
    "        if regex[i] in states[\"S\" + str(start_state)]:\n",
    "            states[\"S\" + str(start_state)][regex[i]].append(\"S\" + str(next_state))\n",
    "        else:\n",
    "            states[\"S\" + str(start_state)][regex[i]] = [\"S\" + str(next_state)]\n",
    "        \n",
    "        states[\"S\" + str(next_state)] = {\"isTerminatingState\": False}\n",
    "        start_state = next_state\n",
    "\n",
    "        return start_state, next_state, states\n",
    "\n",
    "    def build_NFA(self, regex: str, ) -> int:\n",
    "        i = 0\n",
    "        while i < len(regex):\n",
    "            if regex[i] == '(':\n",
    "                depth = 1\n",
    "                subregex = regex[i+1:]\n",
    "                for j in range(len(subregex)):\n",
    "                    if subregex[j] == '(':\n",
    "                        depth += 1\n",
    "                    elif subregex[j] == ')':\n",
    "                        depth -= 1\n",
    "                    if depth == 0:\n",
    "                        subregex = subregex[:j]\n",
    "                        break\n",
    "                sub_start_state = self.next_state + 1\n",
    "                sub_next_state = self.next_state + 1\n",
    "                sub_prev_state = self.next_state + 1\n",
    "                sub_prev_start = self.next_state + 1\n",
    "                \n",
    "                self.states.update({\"S\" + str(sub_start_state + 1): {\"isTerminatingState\": False}})\n",
    "                self.build_NFA(subregex)\n",
    "\n",
    "                i += len(subregex) + 2\n",
    "            elif regex[i] == '|':\n",
    "                pass\n",
    "            else:\n",
    "                self.start_state, self.next_state, self.states = self.add_state(regex, self.start_state, self.next_state, self.states, i)\n",
    "                i += 1\n",
    "        return i\n",
    "\n",
    "    def generate_NFA(self, regex: str, filename: str) -> None:\n",
    "        if not verify_regex(regex):\n",
    "            print(\"Invalid regex\")\n",
    "            return\n",
    "\n",
    "        i = self.build_NFA(regex)\n",
    "        \n",
    "        if i == len(regex):\n",
    "            self.states[\"S\" + str(self.next_state)][\"isTerminatingState\"] = True\n",
    "\n",
    "        json_write(self.states, filename)"
   ]
  },
  {
   "cell_type": "markdown",
   "metadata": {},
   "source": [
    "#### Test literals"
   ]
  },
  {
   "cell_type": "code",
   "execution_count": 7,
   "metadata": {},
   "outputs": [
    {
     "data": {
      "image/png": "[encoded data removed]",
      "text/plain": [
       "<Figure size 640x480 with 1 Axes>"
      ]
     },
     "metadata": {},
     "output_type": "display_data"
    },
    {
     "data": {
      "text/plain": [
       "<Figure size 1500x1500 with 0 Axes>"
      ]
     },
     "metadata": {},
     "output_type": "display_data"
    }
   ],
   "source": [
    "nfa = NFA()\n",
    "nfa.generate_NFA(\"(yomna)\", \"literal.json\")\n",
    "display_and_save_image(\"literal.json\", \"literal\")"
   ]
  }
 ],
 "metadata": {
  "kernelspec": {
   "display_name": "Python 3",
   "language": "python",
   "name": "python3"
  },
  "language_info": {
   "codemirror_mode": {
    "name": "ipython",
    "version": 3
   },
   "file_extension": ".py",
   "mimetype": "text/x-python",
   "name": "python",
   "nbconvert_exporter": "python",
   "pygments_lexer": "ipython3",
   "version": "3.11.9"
  },
  "orig_nbformat": 4
 },
 "nbformat": 4,
 "nbformat_minor": 2
}
