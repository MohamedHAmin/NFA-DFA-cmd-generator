{
 "cells": [
  {
   "attachments": {},
   "cell_type": "markdown",
   "metadata": {},
   "source": [
    "## CMPN403 Programming Assignment\n",
    "Team:\n",
    "- Yomna Osama Hussien 1190203\n",
    "- Mohamed Hassan Mohamed 1190118"
   ]
  },
  {
   "cell_type": "code",
   "execution_count": 21,
   "metadata": {},
   "outputs": [],
   "source": [
    "import re\n",
    "import json"
   ]
  },
  {
   "cell_type": "markdown",
   "metadata": {},
   "source": [
    "#### Utility functions"
   ]
  },
  {
   "cell_type": "code",
   "execution_count": 22,
   "metadata": {},
   "outputs": [],
   "source": [
    "def verify_regex(regex):\n",
    "    try:\n",
    "        re.compile(regex)\n",
    "        return True\n",
    "    except re.error:\n",
    "        return False\n",
    "\n",
    "def json_write(states, filename):\n",
    "    if not filename.endswith('.json'):\n",
    "        filename += '.json'\n",
    "        \n",
    "    with open(filename, 'w') as file:\n",
    "        json.dump(states, file, indent=4)"
   ]
  },
  {
   "cell_type": "markdown",
   "metadata": {},
   "source": [
    "#### Regex to NFA"
   ]
  },
  {
   "cell_type": "code",
   "execution_count": 23,
   "metadata": {},
   "outputs": [],
   "source": [
    "def add_state(regex, startState, nextState, states, i):\n",
    "    nextState += 1\n",
    "    if (regex[i] in states[\"S\" + str(startState)]):\n",
    "        states[\"S\" + str(startState)][regex[i]].append(\"S\" + str(nextState))\n",
    "    else:\n",
    "        states[\"S\" + str(startState)][regex[i]] = [\"S\" + str(nextState)]\n",
    "    \n",
    "    states.update({\"S\" + str(nextState): {\"isTerminatingState\": False}})\n",
    "    startState = nextState\n",
    "\n",
    "    return startState, nextState, states"
   ]
  },
  {
   "cell_type": "code",
   "execution_count": 24,
   "metadata": {},
   "outputs": [],
   "source": [
    "def build_NFA(regex, startState, nextState, states):\n",
    "    i = 0\n",
    "    while i < len(regex):\n",
    "        startState, nextState, states = add_state(regex, startState, nextState, states, i)\n",
    "        i += 1\n",
    "    return startState, nextState, states, i"
   ]
  },
  {
   "cell_type": "code",
   "execution_count": 25,
   "metadata": {},
   "outputs": [],
   "source": [
    "def NFA(regex, filename):\n",
    "    if not verify_regex(regex):\n",
    "        print(\"Invalid regex\")\n",
    "        return\n",
    "    \n",
    "    startState = 0\n",
    "    nextState = 0\n",
    "    states = {\"startingState\": \"S0\",\n",
    "              \"S0\" :{\"isTerminatingState\": False}}\n",
    "    \n",
    "    startState, nextState, states, i = build_NFA(regex, startState, nextState, states)\n",
    "    \n",
    "    if i == len(regex):\n",
    "        states[\"S\" + str(nextState)][\"isTerminatingState\"] = True\n",
    "\n",
    "    json_write(states, filename)"
   ]
  },
  {
   "cell_type": "markdown",
   "metadata": {},
   "source": [
    "#### Test literals"
   ]
  },
  {
   "cell_type": "code",
   "execution_count": 26,
   "metadata": {},
   "outputs": [
    {
     "name": "stdout",
     "output_type": "stream",
     "text": [
      "NFA created successfully\n"
     ]
    }
   ],
   "source": [
    "# read regex from command line\n",
    "regex = input(\"Enter a regex: \")\n",
    "filename = input(\"Enter a filename: \")\n",
    "\n",
    "try:\n",
    "    NFA(regex, filename)\n",
    "    print(\"NFA created successfully\")\n",
    "except:\n",
    "    print(\"Error creating NFA. Exiting...\")\n",
    "    exit(1)"
   ]
  }
 ],
 "metadata": {
  "kernelspec": {
   "display_name": "Python 3",
   "language": "python",
   "name": "python3"
  },
  "language_info": {
   "codemirror_mode": {
    "name": "ipython",
    "version": 3
   },
   "file_extension": ".py",
   "mimetype": "text/x-python",
   "name": "python",
   "nbconvert_exporter": "python",
   "pygments_lexer": "ipython3",
   "version": "3.11.8"
  },
  "orig_nbformat": 4
 },
 "nbformat": 4,
 "nbformat_minor": 2
}
