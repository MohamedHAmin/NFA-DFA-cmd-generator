{
 "cells": [
  {
   "attachments": {},
   "cell_type": "markdown",
   "metadata": {},
   "source": [
    "## CMPN403 Programming Assignment\n",
    "Team:\n",
    "- Yomna Osama Hussien 1190203\n",
    "- Mohamed Hassan Mohamed 1190118"
   ]
  },
  {
   "cell_type": "code",
   "execution_count": 2,
   "metadata": {},
   "outputs": [],
   "source": [
    "import re\n",
    "import json\n",
    "import graphviz\n",
    "from typing import *\n",
    "from IPython.display import display\n",
    "import matplotlib.pyplot as plt\n",
    "import matplotlib.image as mpimg"
   ]
  },
  {
   "cell_type": "markdown",
   "metadata": {},
   "source": [
    "### Utility functions"
   ]
  },
  {
   "cell_type": "code",
   "execution_count": 63,
   "metadata": {},
   "outputs": [],
   "source": [
    "def verify_regex(regex: str) -> bool:\n",
    "    try:\n",
    "        re.compile(regex)\n",
    "        return True\n",
    "    except re.error:\n",
    "        return False\n",
    "    \n",
    "def get_subregex(regex: str, i: int) -> str:\n",
    "        depth = 1\n",
    "        subregex = regex[i+1:]\n",
    "        for j in range(len(subregex)):\n",
    "            if subregex[j] == '(':\n",
    "                depth += 1\n",
    "            elif subregex[j] == ')':\n",
    "                depth -= 1\n",
    "            if depth == 0:\n",
    "                subregex = subregex[:j]\n",
    "                break\n",
    "        return subregex\n",
    "\n",
    "def json_write(states: Dict[str, Dict], filename: str) -> None:\n",
    "    if not filename.endswith('.json'):\n",
    "        filename += '.json'\n",
    "        \n",
    "    with open(filename, 'w') as file:\n",
    "        json.dump(states, file, indent=4)\n",
    "\n",
    "def draw_nfa(json_file: str) -> graphviz.Digraph:\n",
    "    with open(json_file, 'r') as file:\n",
    "        nfa: Dict[str, Dict] = json.load(file)\n",
    "\n",
    "    dot = graphviz.Digraph(comment='NFA')\n",
    "\n",
    "    # add invisible starting state\n",
    "    dot.node('startingStateH', 'startingStateH', style='invis')\n",
    "    \n",
    "    # add nodes\n",
    "    for key in nfa.keys():\n",
    "        if key == 'startingState':\n",
    "            continue\n",
    "        if nfa[key]['isTerminatingState']:\n",
    "            dot.node(key, key, shape='doublecircle')\n",
    "        else:\n",
    "            dot.node(key, key)\n",
    "    \n",
    "    # add edges\n",
    "    for key in nfa.keys():\n",
    "        if key == 'startingState':\n",
    "            continue\n",
    "        for symbol in nfa[key].keys():\n",
    "            if symbol == 'isTerminatingState':\n",
    "                continue\n",
    "            for next_state in nfa[key][symbol]:\n",
    "                sy = symbol\n",
    "                if symbol == 'epsilon':\n",
    "                    sy = 'ε'\n",
    "                dot.edge(key, next_state, label=sy)\n",
    "    \n",
    "    dot.edge('startingStateH', nfa['startingState'])\n",
    "\n",
    "    return dot\n",
    "\n",
    "def display_and_save_image(json_file: str, fileName: str) -> None:\n",
    "    dot = draw_nfa(json_file)\n",
    "    dot.format = 'png'\n",
    "    dot.render(fileName)\n",
    "    \n",
    "    img = mpimg.imread(fileName+'.png')\n",
    "    imgplot = plt.imshow(img)\n",
    "    plt.axis('off')\n",
    "    plt.figure(figsize=(15, 15))\n",
    "    plt.show()"
   ]
  },
  {
   "cell_type": "markdown",
   "metadata": {},
   "source": [
    "### Regex to NFA"
   ]
  },
  {
   "cell_type": "code",
   "execution_count": 76,
   "metadata": {},
   "outputs": [],
   "source": [
    "class NFA:\n",
    "    def __init__(self) -> None:\n",
    "        self.start_state = 0\n",
    "        self.next_state = 0\n",
    "        self.prev_state = 0\n",
    "        self.prev_start = 0\n",
    "        self.states = {\"startingState\": \"S0\", \"S0\": {\"isTerminatingState\": False}}\n",
    "\n",
    "    def generate_NFA(self, regex: str, filename: str) -> None:\n",
    "        if not verify_regex(regex):\n",
    "            print(\"Invalid regex\")\n",
    "            return\n",
    "\n",
    "        i = self.build_NFA(regex)\n",
    "        \n",
    "        if i == len(regex):\n",
    "            self.states[\"S\" + str(self.next_state)][\"isTerminatingState\"] = True\n",
    "            self.states.update({\"startingState\": (\"S\" + str(self.prev_start))})\n",
    "\n",
    "        json_write(self.states, filename)\n",
    "    \n",
    "    def build_NFA(self, regex: str) -> int:\n",
    "        i = 0\n",
    "        while i < len(regex):\n",
    "            if regex[i] == '(':\n",
    "                subregex = get_subregex(regex, i)\n",
    "\n",
    "                start_state = self.start_state\n",
    "                next_state = self.next_state\n",
    "                prev_state = self.prev_state\n",
    "                prev_start = self.prev_start\n",
    "\n",
    "                sub_value = self.next_state + 1\n",
    "                self.start_state = sub_value\n",
    "                self.next_state = sub_value\n",
    "                self.prev_state = sub_value\n",
    "                self.prev_start = sub_value\n",
    "\n",
    "                self.states.update({\"S\" + str(self.next_state): {\"isTerminatingState\": False}})\n",
    "                self.build_NFA(subregex)\n",
    "\n",
    "                if \"ε\" in self.states[\"S\" + str(next_state)].keys():\n",
    "                    self.states[\"S\" + str(next_state)][\"ε\"].append(\"S\" + str(self.prev_start))\n",
    "                else:\n",
    "                    self.states[\"S\" + str(next_state)][\"ε\"] = [\"S\" + str(self.prev_start)]\n",
    "\n",
    "                self.prev_start = prev_start\n",
    "\n",
    "                i += len(subregex) + 2\n",
    "                \n",
    "            elif regex[i] == '|':\n",
    "                i += 1\n",
    "\n",
    "                self.states.update({\"S\" + str(self.next_state + 1): {\"isTerminatingState\": False}})\n",
    "\n",
    "                start_state = self.start_state\n",
    "                next_state = self.next_state\n",
    "                prev_state = self.prev_state\n",
    "                prev_start = self.prev_start\n",
    "\n",
    "                alt_value = self.next_state + 1\n",
    "                self.start_state = alt_value\n",
    "                self.next_state = alt_value\n",
    "                self.prev_state = alt_value\n",
    "                self.prev_start = alt_value\n",
    "                \n",
    "                self.build_NFA(regex[i:])\n",
    "\n",
    "                alt_start_state = self.start_state\n",
    "                alt_next_state = self.next_state\n",
    "                alt_prev_state = self.prev_state\n",
    "                alt_prev_start = self.prev_start\n",
    "\n",
    "                self.start_state = start_state\n",
    "                self.next_state = next_state\n",
    "                self.prev_state = prev_state\n",
    "                self.prev_start = prev_start\n",
    "\n",
    "                i += len(regex[i:])\n",
    "\n",
    "                self.states.update({\"S\" + str(alt_next_state + 1): {\"isTerminatingState\": False}})\n",
    "                \n",
    "                if 'ε' in self.states[\"S\" + str(alt_next_state + 1)].keys():\n",
    "                    self.states[\"S\" + str(alt_next_state + 1)][\"ε\"].append(\"S\" + str(self.prev_start))\n",
    "                    self.states[\"S\" + str(alt_next_state + 1)][\"ε\"].append(\"S\" + str(alt_prev_start))\n",
    "                else:\n",
    "                    self.states[\"S\" + str(alt_next_state + 1)][\"ε\"] = [\"S\" + str(self.prev_start), \"S\" + str(alt_prev_start)]\n",
    "\n",
    "                self.states.update({\"S\" + str(alt_next_state + 2): {\"isTerminatingState\": False}}) \n",
    "\n",
    "                if 'ε' in self.states[\"S\" + str(alt_next_state)].keys():\n",
    "                    self.states[\"S\" + str(alt_next_state)][\"ε\"].append(\"S\" + str(alt_next_state + 2))\n",
    "                else:\n",
    "                   self.states[\"S\" + str(alt_next_state)][\"ε\"] = [\"S\" + str(alt_next_state + 2)]\n",
    "\n",
    "                if 'ε' in self.states[\"S\" + str(self.next_state)].keys():\n",
    "                    self.states[\"S\" + str(self.next_state)][\"ε\"].append(\"S\" + str(alt_next_state + 2))\n",
    "                else:\n",
    "                    self.states[\"S\" + str(self.next_state)][\"ε\"] = [\"S\" + str(alt_next_state + 2)] \n",
    "\n",
    "                self.prev_start = alt_next_state + 1\n",
    "                self.next_state = alt_next_state + 2\n",
    "                self.prev_state = alt_next_state + 1\n",
    "                self.start_state = alt_next_state\n",
    "            elif regex[i] == '[':\n",
    "                substring, end = self.get_range_substring(regex, i)\n",
    "                self.start_state, self.next_state, self.prev_state, self.states = self.add_state(substring, self.start_state, self.next_state, self.prev_state, self.states, i, True)\n",
    "                i = end \n",
    "\n",
    "            else:\n",
    "                self.start_state, self.next_state, self.prev_state, self.states = self.add_state(regex, self.start_state, self.next_state, self.prev_state, self.states, i)\n",
    "                i += 1\n",
    "        return i\n",
    "    \n",
    "    def add_state(self, regex: str, start_state: int, next_state: int,prev_state: int, states: Dict[str, Dict], i: int, isRange: bool = False) -> Tuple[int, int, Dict[str, Dict]]:\n",
    "        next_state += 1\n",
    "        if isRange:\n",
    "            return self.handleRange(start_state, next_state, prev_state, states, regex)\n",
    "        \n",
    "        if(regex[i] == '+'):\n",
    "            return self.handlePositiveClosure(start_state, next_state, prev_state, states)\n",
    "        \n",
    "        if regex[i] == '*':\n",
    "            return self.handleZeroOrMore(start_state, next_state, prev_state, states)\n",
    "        \n",
    "        if regex[i] == '?':\n",
    "           return self.handleZeroOrOne(start_state, next_state, prev_state, states)\n",
    "        \n",
    "        if regex[i] in states[\"S\" + str(start_state)]:\n",
    "            states[\"S\" + str(start_state)][regex[i]].append(\"S\" + str(next_state))\n",
    "        else:\n",
    "            states[\"S\" + str(start_state)][regex[i]] = [\"S\" + str(next_state)]\n",
    "        \n",
    "        states[\"S\" + str(next_state)] = {\"isTerminatingState\": False}\n",
    "        prev_state = start_state\n",
    "        start_state = next_state\n",
    "\n",
    "        return start_state, next_state, prev_state, states\n",
    "\n",
    "    def get_range_substring(self, regex: str, i: int) -> Tuple[str, int]:\n",
    "        subString = \"\"\n",
    "        end = i\n",
    "        regex = regex[i:]       # discard part before bracket (but takes the bracket itself)\n",
    "        for j in range(len(regex)):\n",
    "            if regex[j] == ']':             # matching first closed bracket\n",
    "                subString = regex[:j+1]       # discard part after bracket (but takes the bracket itself)\n",
    "                end = i+j+1\n",
    "                return subString, end\n",
    "        \n",
    "        return subString, end\n",
    "\n",
    "    def handleRange(self, start_state: int, next_state: int, prev_state: int, states: Dict[str, Dict], substring: str) -> Tuple[int, int,int, Dict[str, Dict]]:\n",
    "        if substring in states[\"S\" + str(start_state)].keys():\n",
    "            states[\"S\" + str(start_state)][substring].append(\"S\" + str(next_state))\n",
    "        else:\n",
    "            states[\"S\" + str(start_state)][substring] = [\"S\" + str(next_state)]\n",
    "        \n",
    "        states[\"S\" + str(next_state)] = {\"isTerminatingState\": False}\n",
    "        prev_state = start_state\n",
    "        start_state = next_state\n",
    "\n",
    "        return start_state, next_state, prev_state, states\n",
    "\n",
    "    def handlePositiveClosure(self, start_state: int, next_state: int, prev_state: int, states: Dict[str, Dict]) -> Tuple[int, int,int, Dict[str, Dict]]:\n",
    "        states[\"S\" + str(next_state)] = {\"isTerminatingState\": False}  \n",
    "        if 'ε' in states[\"S\" + str(start_state)]:\n",
    "            states[\"S\" + str(start_state)][\"ε\"].append(\"S\" + str(prev_state))\n",
    "            states[\"S\" + str(start_state)][\"ε\"].append(\"S\" + str(next_state))\n",
    "        else:\n",
    "            states[\"S\" + str(start_state)][\"ε\"] = [\"S\" + str(prev_state), \"S\" + str(next_state)]\n",
    "        prev_state = start_state\n",
    "        start_state = next_state\n",
    "        return start_state, next_state, prev_state, states\n",
    "    \n",
    "    def handleZeroOrMore(self, start_state: int, next_state: int, prev_state: int, states: Dict[str, Dict]) -> Tuple[int, int,int, Dict[str, Dict]]:\n",
    "        states[\"S\" + str(next_state)] = {\"isTerminatingState\": False}  \n",
    "        if 'ε' in states[\"S\" + str(start_state)]:\n",
    "            states[\"S\" + str(start_state)][\"ε\"].append(\"S\" + str(prev_state))\n",
    "            states[\"S\" + str(start_state)][\"ε\"].append(\"S\" + str(next_state))\n",
    "        else:\n",
    "            states[\"S\" + str(start_state)][\"ε\"] = [\"S\" + str(prev_state), \"S\" + str(next_state)]\n",
    "        \n",
    "        if 'ε' in states[\"S\" + str(prev_state)]:\n",
    "            states[\"S\" + str(prev_state)][\"ε\"].append(\"S\" + str(next_state))\n",
    "        else:\n",
    "            states[\"S\" + str(prev_state)][\"ε\"] = [\"S\" + str(next_state)]\n",
    "            \n",
    "        prev_state = start_state\n",
    "        start_state = next_state\n",
    "        return start_state, next_state, prev_state, states\n",
    "    \n",
    "    def handleZeroOrOne(self, start_state: int, next_state: int, prev_state: int, states: Dict[str, Dict]) -> Tuple[int, int,int, Dict[str, Dict]]:\n",
    "        states[\"S\" + str(next_state)] = {\"isTerminatingState\": False}  \n",
    "        if 'ε' in states[\"S\" + str(start_state)]:\n",
    "            states[\"S\" + str(start_state)][\"ε\"].append(\"S\" + str(next_state))\n",
    "        else:\n",
    "            states[\"S\" + str(start_state)][\"ε\"] = [\"S\" + str(next_state)]\n",
    "        \n",
    "        if 'ε' in states[\"S\" + str(prev_state)]:\n",
    "            states[\"S\" + str(prev_state)][\"ε\"].append(\"S\" + str(next_state))\n",
    "        else:\n",
    "            states[\"S\" + str(prev_state)][\"ε\"] = [\"S\" + str(next_state)]\n",
    "        \n",
    "        prev_state = start_state\n",
    "        start_state = next_state\n",
    "        return start_state, next_state, prev_state, states"
   ]
  },
  {
   "cell_type": "markdown",
   "metadata": {},
   "source": [
    "#### Functional Testing"
   ]
  },
  {
   "cell_type": "code",
   "execution_count": null,
   "metadata": {},
   "outputs": [],
   "source": [
    "nfa = NFA()\n",
    "nfa.generate_NFA(\"yomna\", \"literal.json\")\n",
    "display_and_save_image(\"literal.json\", \"literal\")"
   ]
  },
  {
   "cell_type": "code",
   "execution_count": null,
   "metadata": {},
   "outputs": [],
   "source": [
    "nfa = NFA()\n",
    "nfa.generate_NFA(\"amin+\", \"positiveClosure.json\")\n",
    "display_and_save_image(\"positiveClosure.json\", \"positiveClosure\")"
   ]
  },
  {
   "cell_type": "code",
   "execution_count": null,
   "metadata": {},
   "outputs": [],
   "source": [
    "nfa = NFA()\n",
    "nfa.generate_NFA(\"amin?\", \"zeroOrOne.json\")\n",
    "display_and_save_image(\"zeroOrOne.json\", \"zeroOrOne\")"
   ]
  },
  {
   "cell_type": "code",
   "execution_count": null,
   "metadata": {},
   "outputs": [],
   "source": [
    "nfa = NFA()\n",
    "nfa.generate_NFA(\"amin*\", \"zeroOrMore.json\")\n",
    "display_and_save_image(\"zeroOrMore.json\", \"zeroOrMore\")"
   ]
  },
  {
   "cell_type": "code",
   "execution_count": null,
   "metadata": {},
   "outputs": [],
   "source": [
    "nfa = NFA()\n",
    "nfa.generate_NFA(\"aa|b\", \"Alternate.json\")\n",
    "display_and_save_image(\"Alternate.json\", \"Alternate\")"
   ]
  },
  {
   "cell_type": "code",
   "execution_count": null,
   "metadata": {},
   "outputs": [],
   "source": [
    "nfa = NFA()\n",
    "nfa.generate_NFA(\"[A-Z0-9]\", \"range.json\")\n",
    "display_and_save_image(\"range.json\", \"range\")"
   ]
  },
  {
   "cell_type": "code",
   "execution_count": 75,
   "metadata": {},
   "outputs": [
    {
     "data": {
      "image/png": "[encoded data removed]",
      "text/plain": [
       "<Figure size 640x480 with 1 Axes>"
      ]
     },
     "metadata": {},
     "output_type": "display_data"
    },
    {
     "data": {
      "text/plain": [
       "<Figure size 1500x1500 with 0 Axes>"
      ]
     },
     "metadata": {},
     "output_type": "display_data"
    }
   ],
   "source": [
    "nfa = NFA()\n",
    "nfa.generate_NFA(\"ab(c|d)*\", \"brackets.json\")\n",
    "display_and_save_image(\"brackets.json\", \"brackets\")"
   ]
  },
  {
   "cell_type": "markdown",
   "metadata": {},
   "source": [
    "#### NFA Testing"
   ]
  },
  {
   "cell_type": "code",
   "execution_count": 69,
   "metadata": {},
   "outputs": [
    {
     "data": {
      "image/png": "[encoded data removed]",
      "text/plain": [
       "<Figure size 640x480 with 1 Axes>"
      ]
     },
     "metadata": {},
     "output_type": "display_data"
    },
    {
     "data": {
      "text/plain": [
       "<Figure size 1500x1500 with 0 Axes>"
      ]
     },
     "metadata": {},
     "output_type": "display_data"
    }
   ],
   "source": [
    "# Testcases\n",
    "test1 = \"ab(b|c)*d+\"  # check ()\n",
    "test2 = \"[a-zA-Z_$][a-zA-Z0-9_$]*\"\n",
    "test3 = \"0|[1-9A-F][0-9A-F]*|[1-9a-f][0-9a-f]*\"\n",
    "test4 = \"https?://(www.)?[a-zA-Z0-9-_].(com|org|net)\"\n",
    "test5 = \"[1-9]|[1-9][0-9]|1[0-9][0-9]|2[0-4][0-9]|25[0-5]\"\n",
    "test6 = \"((00)|1)*1(0|1)\"\n",
    "test7 = \"(a|b)*bc+\"\n",
    "test8 = \"[a-z_][a-z0-9_]*[!?]?\"\n",
    "\n",
    "nfa = NFA()\n",
    "nfa.generate_NFA(test4, \"test4.json\")\n",
    "display_and_save_image(\"test4.json\", \"test4\")"
   ]
  }
 ],
 "metadata": {
  "kernelspec": {
   "display_name": "Python 3",
   "language": "python",
   "name": "python3"
  },
  "language_info": {
   "codemirror_mode": {
    "name": "ipython",
    "version": 3
   },
   "file_extension": ".py",
   "mimetype": "text/x-python",
   "name": "python",
   "nbconvert_exporter": "python",
   "pygments_lexer": "ipython3",
   "version": "3.11.9"
  },
  "orig_nbformat": 4
 },
 "nbformat": 4,
 "nbformat_minor": 2
}
